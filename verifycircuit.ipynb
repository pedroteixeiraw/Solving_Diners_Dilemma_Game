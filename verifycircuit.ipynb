{
 "cells": [
  {
   "cell_type": "code",
   "execution_count": 1,
   "id": "ae9dd416",
   "metadata": {},
   "outputs": [],
   "source": [
    "import sympy as sy\n",
    "from sympy.physics.quantum import TensorProduct\n",
    "import numpy as np\n",
    "from sympy.physics.quantum.dagger import Dagger"
   ]
  },
  {
   "cell_type": "code",
   "execution_count": 2,
   "id": "36b1e9ce",
   "metadata": {},
   "outputs": [],
   "source": [
    "C = sy.Matrix([1,0])\n",
    "D = sy.Matrix([0,1])\n",
    "\n",
    "j = C*sy.Matrix([1,0]).T\n",
    "k = D*sy.Matrix([0,1]).T\n",
    "\n",
    "i = sy.eye(2)\n",
    "x = sy.Matrix([[0,1],[1,0]])\n",
    "z = sy.Matrix([[1,0],[0,-1]])"
   ]
  },
  {
   "cell_type": "markdown",
   "id": "7433af32",
   "metadata": {},
   "source": [
    "Neste notebook foi utilizada a package *sympy*, para verificar os cálculos e o circuito implementado no artigo."
   ]
  },
  {
   "cell_type": "markdown",
   "id": "dd710f65",
   "metadata": {},
   "source": [
    "$$\\newcommand{\\ket}[1]{\\left|{#1}\\right\\rangle}$$\n",
    "$$\\newcommand{\\bra}[1]{\\left\\langle{#1}\\right|}$$\n",
    "Segundo [2], $J$ é a solução das condições de comutação, que permitem reproduzir o jogo clássico do Prisioner's Dilemma.\n",
    "$$J = e^{i \\gamma X\\otimes X/2}$$\n",
    "Por inspeção da equação anterior, obtemos uma solução análoga para o Diner's Dilemma:\n",
    "$$J = e^{i \\gamma X\\otimes X \\otimes X \\otimes X /2}$$\n",
    "Onde $\\gamma$ é o parametro de entrelaçamento."
   ]
  },
  {
   "cell_type": "code",
   "execution_count": 3,
   "id": "04a6b5b4",
   "metadata": {},
   "outputs": [
    {
     "data": {
      "text/latex": [
       "$\\displaystyle \\left[\\begin{array}{cccccccccccccccc}\\cos{\\left(\\frac{\\gamma}{2} \\right)} & 0 & 0 & 0 & 0 & 0 & 0 & 0 & 0 & 0 & 0 & 0 & 0 & 0 & 0 & i \\sin{\\left(\\frac{\\gamma}{2} \\right)}\\\\0 & \\cos{\\left(\\frac{\\gamma}{2} \\right)} & 0 & 0 & 0 & 0 & 0 & 0 & 0 & 0 & 0 & 0 & 0 & 0 & i \\sin{\\left(\\frac{\\gamma}{2} \\right)} & 0\\\\0 & 0 & \\cos{\\left(\\frac{\\gamma}{2} \\right)} & 0 & 0 & 0 & 0 & 0 & 0 & 0 & 0 & 0 & 0 & i \\sin{\\left(\\frac{\\gamma}{2} \\right)} & 0 & 0\\\\0 & 0 & 0 & \\cos{\\left(\\frac{\\gamma}{2} \\right)} & 0 & 0 & 0 & 0 & 0 & 0 & 0 & 0 & i \\sin{\\left(\\frac{\\gamma}{2} \\right)} & 0 & 0 & 0\\\\0 & 0 & 0 & 0 & \\cos{\\left(\\frac{\\gamma}{2} \\right)} & 0 & 0 & 0 & 0 & 0 & 0 & i \\sin{\\left(\\frac{\\gamma}{2} \\right)} & 0 & 0 & 0 & 0\\\\0 & 0 & 0 & 0 & 0 & \\cos{\\left(\\frac{\\gamma}{2} \\right)} & 0 & 0 & 0 & 0 & i \\sin{\\left(\\frac{\\gamma}{2} \\right)} & 0 & 0 & 0 & 0 & 0\\\\0 & 0 & 0 & 0 & 0 & 0 & \\cos{\\left(\\frac{\\gamma}{2} \\right)} & 0 & 0 & i \\sin{\\left(\\frac{\\gamma}{2} \\right)} & 0 & 0 & 0 & 0 & 0 & 0\\\\0 & 0 & 0 & 0 & 0 & 0 & 0 & \\cos{\\left(\\frac{\\gamma}{2} \\right)} & i \\sin{\\left(\\frac{\\gamma}{2} \\right)} & 0 & 0 & 0 & 0 & 0 & 0 & 0\\\\0 & 0 & 0 & 0 & 0 & 0 & 0 & i \\sin{\\left(\\frac{\\gamma}{2} \\right)} & \\cos{\\left(\\frac{\\gamma}{2} \\right)} & 0 & 0 & 0 & 0 & 0 & 0 & 0\\\\0 & 0 & 0 & 0 & 0 & 0 & i \\sin{\\left(\\frac{\\gamma}{2} \\right)} & 0 & 0 & \\cos{\\left(\\frac{\\gamma}{2} \\right)} & 0 & 0 & 0 & 0 & 0 & 0\\\\0 & 0 & 0 & 0 & 0 & i \\sin{\\left(\\frac{\\gamma}{2} \\right)} & 0 & 0 & 0 & 0 & \\cos{\\left(\\frac{\\gamma}{2} \\right)} & 0 & 0 & 0 & 0 & 0\\\\0 & 0 & 0 & 0 & i \\sin{\\left(\\frac{\\gamma}{2} \\right)} & 0 & 0 & 0 & 0 & 0 & 0 & \\cos{\\left(\\frac{\\gamma}{2} \\right)} & 0 & 0 & 0 & 0\\\\0 & 0 & 0 & i \\sin{\\left(\\frac{\\gamma}{2} \\right)} & 0 & 0 & 0 & 0 & 0 & 0 & 0 & 0 & \\cos{\\left(\\frac{\\gamma}{2} \\right)} & 0 & 0 & 0\\\\0 & 0 & i \\sin{\\left(\\frac{\\gamma}{2} \\right)} & 0 & 0 & 0 & 0 & 0 & 0 & 0 & 0 & 0 & 0 & \\cos{\\left(\\frac{\\gamma}{2} \\right)} & 0 & 0\\\\0 & i \\sin{\\left(\\frac{\\gamma}{2} \\right)} & 0 & 0 & 0 & 0 & 0 & 0 & 0 & 0 & 0 & 0 & 0 & 0 & \\cos{\\left(\\frac{\\gamma}{2} \\right)} & 0\\\\i \\sin{\\left(\\frac{\\gamma}{2} \\right)} & 0 & 0 & 0 & 0 & 0 & 0 & 0 & 0 & 0 & 0 & 0 & 0 & 0 & 0 & \\cos{\\left(\\frac{\\gamma}{2} \\right)}\\end{array}\\right]$"
      ],
      "text/plain": [
       "Matrix([\n",
       "[  cos(\\gamma/2),               0,               0,               0,               0,               0,               0,               0,               0,               0,               0,               0,               0,               0,               0, I*sin(\\gamma/2)],\n",
       "[              0,   cos(\\gamma/2),               0,               0,               0,               0,               0,               0,               0,               0,               0,               0,               0,               0, I*sin(\\gamma/2),               0],\n",
       "[              0,               0,   cos(\\gamma/2),               0,               0,               0,               0,               0,               0,               0,               0,               0,               0, I*sin(\\gamma/2),               0,               0],\n",
       "[              0,               0,               0,   cos(\\gamma/2),               0,               0,               0,               0,               0,               0,               0,               0, I*sin(\\gamma/2),               0,               0,               0],\n",
       "[              0,               0,               0,               0,   cos(\\gamma/2),               0,               0,               0,               0,               0,               0, I*sin(\\gamma/2),               0,               0,               0,               0],\n",
       "[              0,               0,               0,               0,               0,   cos(\\gamma/2),               0,               0,               0,               0, I*sin(\\gamma/2),               0,               0,               0,               0,               0],\n",
       "[              0,               0,               0,               0,               0,               0,   cos(\\gamma/2),               0,               0, I*sin(\\gamma/2),               0,               0,               0,               0,               0,               0],\n",
       "[              0,               0,               0,               0,               0,               0,               0,   cos(\\gamma/2), I*sin(\\gamma/2),               0,               0,               0,               0,               0,               0,               0],\n",
       "[              0,               0,               0,               0,               0,               0,               0, I*sin(\\gamma/2),   cos(\\gamma/2),               0,               0,               0,               0,               0,               0,               0],\n",
       "[              0,               0,               0,               0,               0,               0, I*sin(\\gamma/2),               0,               0,   cos(\\gamma/2),               0,               0,               0,               0,               0,               0],\n",
       "[              0,               0,               0,               0,               0, I*sin(\\gamma/2),               0,               0,               0,               0,   cos(\\gamma/2),               0,               0,               0,               0,               0],\n",
       "[              0,               0,               0,               0, I*sin(\\gamma/2),               0,               0,               0,               0,               0,               0,   cos(\\gamma/2),               0,               0,               0,               0],\n",
       "[              0,               0,               0, I*sin(\\gamma/2),               0,               0,               0,               0,               0,               0,               0,               0,   cos(\\gamma/2),               0,               0,               0],\n",
       "[              0,               0, I*sin(\\gamma/2),               0,               0,               0,               0,               0,               0,               0,               0,               0,               0,   cos(\\gamma/2),               0,               0],\n",
       "[              0, I*sin(\\gamma/2),               0,               0,               0,               0,               0,               0,               0,               0,               0,               0,               0,               0,   cos(\\gamma/2),               0],\n",
       "[I*sin(\\gamma/2),               0,               0,               0,               0,               0,               0,               0,               0,               0,               0,               0,               0,               0,               0,   cos(\\gamma/2)]])"
      ]
     },
     "execution_count": 3,
     "metadata": {},
     "output_type": "execute_result"
    }
   ],
   "source": [
    "gamma = sy.Symbol('\\gamma')\n",
    "E = sy.Matrix([[0,1],[-1,0]])\n",
    "J = sy.exp(1j*gamma*TensorProduct(x,x,x,x)/2)\n",
    "sy.nsimplify(sy.simplify(J),tolerance=0.001, rational=True)"
   ]
  },
  {
   "cell_type": "code",
   "execution_count": 4,
   "id": "02803ee5",
   "metadata": {},
   "outputs": [],
   "source": [
    "#Pode ser mostrado por equivalencia\n",
    "#sy.cos(gamma/2)*TensorProduct(i,i,i,i) + 1j* sy.sin(gamma/2)*TensorProduct(x,x,x,x)"
   ]
  },
  {
   "cell_type": "markdown",
   "id": "7fc61a1b",
   "metadata": {},
   "source": [
    "Por solução analítica:\n",
    "$$J = e^{i \\gamma X\\otimes X \\otimes X\\otimes X /2} = \\cos(\\frac{\\gamma}{2})I\\otimes I\\otimes I\\otimes I + i\\sin(\\frac{\\gamma}{2})X \\otimes X\\otimes X\\otimes X$$ \n",
    "\n",
    "Quando for aplicado o operador J ao estado inicial, será obtido então o estado:\n",
    "$$J\\ket{CCCC} = \\cos(\\frac{\\gamma}{2})\\ket{CCCC} + i\\sin(\\frac{\\gamma}{2})\\ket{EEEE} $$ "
   ]
  },
  {
   "cell_type": "code",
   "execution_count": 5,
   "id": "4aeb3298",
   "metadata": {},
   "outputs": [
    {
     "data": {
      "text/latex": [
       "$\\displaystyle \\left[\\begin{matrix}\\cos{\\left(\\frac{\\gamma}{2} \\right)}\\\\0\\\\0\\\\0\\\\0\\\\0\\\\0\\\\0\\\\0\\\\0\\\\0\\\\0\\\\0\\\\0\\\\0\\\\i \\sin{\\left(\\frac{\\gamma}{2} \\right)}\\end{matrix}\\right]$"
      ],
      "text/plain": [
       "Matrix([\n",
       "[  cos(\\gamma/2)],\n",
       "[              0],\n",
       "[              0],\n",
       "[              0],\n",
       "[              0],\n",
       "[              0],\n",
       "[              0],\n",
       "[              0],\n",
       "[              0],\n",
       "[              0],\n",
       "[              0],\n",
       "[              0],\n",
       "[              0],\n",
       "[              0],\n",
       "[              0],\n",
       "[I*sin(\\gamma/2)]])"
      ]
     },
     "execution_count": 5,
     "metadata": {},
     "output_type": "execute_result"
    }
   ],
   "source": [
    "r = sy.simplify(J * TensorProduct(C,C,C,C))\n",
    "sy.nsimplify(r,tolerance=0.001, rational=True)"
   ]
  },
  {
   "cell_type": "markdown",
   "id": "e6188aec",
   "metadata": {},
   "source": [
    "A situação relevante para o problema é quando $\\gamma = \\frac{\\pi}{2}$, assim o estado se encontra maximamente entrelaçado."
   ]
  },
  {
   "cell_type": "markdown",
   "id": "9db30e11",
   "metadata": {},
   "source": [
    "### Estado desejado\n",
    "<a id='c1'></a>"
   ]
  },
  {
   "cell_type": "code",
   "execution_count": 6,
   "id": "6f640b51",
   "metadata": {},
   "outputs": [
    {
     "data": {
      "text/latex": [
       "$\\displaystyle \\left[\\begin{matrix}\\frac{\\sqrt{2}}{2}\\\\0\\\\0\\\\0\\\\0\\\\0\\\\0\\\\0\\\\0\\\\0\\\\0\\\\0\\\\0\\\\0\\\\0\\\\\\frac{\\sqrt{2} i}{2}\\end{matrix}\\right]$"
      ],
      "text/plain": [
       "Matrix([\n",
       "[  sqrt(2)/2],\n",
       "[          0],\n",
       "[          0],\n",
       "[          0],\n",
       "[          0],\n",
       "[          0],\n",
       "[          0],\n",
       "[          0],\n",
       "[          0],\n",
       "[          0],\n",
       "[          0],\n",
       "[          0],\n",
       "[          0],\n",
       "[          0],\n",
       "[          0],\n",
       "[sqrt(2)*I/2]])"
      ]
     },
     "execution_count": 6,
     "metadata": {},
     "output_type": "execute_result"
    }
   ],
   "source": [
    "sy.simplify(r.subs(gamma,sy.pi/2),rational=True)"
   ]
  },
  {
   "cell_type": "markdown",
   "id": "c622d51b",
   "metadata": {},
   "source": [
    "No artigo [1], é apresentado o circuito seguinte que implementa a operação \n",
    "$$J\\dagger (U_A \\otimes U_B \\otimes U_C \\otimes U_D)J \\ket{\\psi_0}$$\n",
    "para construir o circuito que aplica $J$, foi utilizada uma sequência de *gates* $CX$, $CZ$ e rotação $U$."
   ]
  },
  {
   "attachments": {
    "circuitCCCC.png": {
     "image/png": "[encoded data removed]"
    }
   },
   "cell_type": "markdown",
   "id": "f974ca4d",
   "metadata": {},
   "source": [
    "![circuitCCCC.png](attachment:circuitCCCC.png)"
   ]
  },
  {
   "cell_type": "markdown",
   "id": "5f693989",
   "metadata": {},
   "source": [
    "# Controlled-X gates\n",
    "\n",
    "Uma gate $CX$ para um sistema de 2 *qubits*, aplica a seguinte operação:\n",
    "$$CX = \\ket{0}\\bra{0}\\otimes I + \\ket{1}\\bra{1}\\otimes X $$\n",
    "Isto é, quando o primeiro *qubit* se apresenta no estado $\\ket{1}$ é aplicada uma *gate* $X$ ao segundo *qubit*, caso contrário\n",
    "não é aplicada.\n",
    "\n",
    "Desta forma, para construir o modelo matemático das *gates* $CX$ num espaço com mais de 2 *qubits*, aplicasse a mesma lógica, como por exemplo a seguir:\n",
    "$$CX_{q_0,q_3} =\\ket{0}\\bra{0}\\otimes I \\otimes I \\otimes I + \\ket{1}\\bra{1}\\otimes I \\otimes I \\otimes X $$  \n",
    "Esta *gate* tem como controlo o *qubit* 0 e alvo o *qubit* 3, e não opera sob os restantes"
   ]
  },
  {
   "cell_type": "code",
   "execution_count": 7,
   "id": "bba63bad",
   "metadata": {},
   "outputs": [],
   "source": [
    "c1 = TensorProduct(j, i,i,i) + TensorProduct(k, x , i ,i ) \n",
    "c2 = TensorProduct(j, i,i,i) + TensorProduct(k, i , x ,i )\n",
    "c3 = TensorProduct(j, i,i,i) + TensorProduct(k, i , i ,x )"
   ]
  },
  {
   "cell_type": "markdown",
   "id": "8ffa1c96",
   "metadata": {},
   "source": [
    "# $U$ gate\n",
    "\n",
    "Para rotação U, é utilizada a *gate* $U3$ que segundo o *Qiskit* aplica a seguinte operação:\n",
    "$$U3(\\theta,\\phi,\\lambda) = \\begin{bmatrix} \\cos{\\frac{\\theta}{2}} & -e^{i\\lambda}\\sin{\\frac{\\theta}{2}}  \\\\ e^{i\\phi}\\sin{\\frac{\\theta}{2}} & e^{i(\\phi+\\lambda)}\\cos{\\frac{\\theta}{2}}   \\end{bmatrix}$$\n",
    "\n",
    "Para o efeito de obter $J$ foram usados os seguintes ângulos:\n",
    "$$\\theta = \\phi =-\\lambda =\\frac{\\pi}{2}$$\n",
    "\n",
    "E como a gate é aplicada apenas a $q_0$ fica:\n",
    "$$U = U3(\\theta,\\phi,\\lambda) \\otimes I \\otimes I \\otimes I$$\n"
   ]
  },
  {
   "cell_type": "code",
   "execution_count": 8,
   "id": "dd913aee",
   "metadata": {},
   "outputs": [],
   "source": [
    "a,b,c = sy.pi/2 , sy.pi/2 ,-sy.pi/2\n",
    "u3 = sy.Matrix([[sy.cos(a/2), -sy.exp(1j*c)*sy.sin(a/2)],[sy.exp(1j*b)*sy.sin(a/2),sy.exp(1j*(b+c))*sy.cos(a/2)]])\n",
    "u = TensorProduct(u3, i , i ,i )"
   ]
  },
  {
   "cell_type": "markdown",
   "id": "1dce9039",
   "metadata": {},
   "source": [
    "# Controlled-Z gates\n",
    "\n",
    "Pela mesma lógica, utilizada para as *gates* $CX$:\n",
    "$$CZ = \\ket{0}\\bra{0}\\otimes I + \\ket{1}\\bra{1}\\otimes Z $$\n",
    "\n",
    "$$CZ_{q_0,q_3} =\\ket{0}\\bra{0}\\otimes I \\otimes I \\otimes I + \\ket{1}\\bra{1}\\otimes I \\otimes I \\otimes Z $$  "
   ]
  },
  {
   "cell_type": "code",
   "execution_count": 9,
   "id": "2649164e",
   "metadata": {},
   "outputs": [],
   "source": [
    "cz1 = TensorProduct(j, i,i,i) + TensorProduct(k, z , i ,i ) \n",
    "cz2 = TensorProduct(j, i,i,i) + TensorProduct(k, i , z ,i )  \n",
    "cz3 = TensorProduct(j, i,i,i) + TensorProduct(k, i , i ,z )  "
   ]
  },
  {
   "cell_type": "markdown",
   "id": "ba7cc28c",
   "metadata": {},
   "source": [
    "# $J$\n",
    "\n",
    "Finalmente, o operador $J$ será dado por:\n",
    "\n",
    "$$ J = CX_{q_0,q_3}\\cdot CX_{q_0,q_2}\\cdot CX_{q_0,q_1} \\cdot CZ_{q_0,q_3} \\cdot CZ_{q_0,q_2} \\cdot CZ_{q_0,q_1}\\cdot U \\cdot CX_{q_0,q_3}\\cdot CX_{q_0,q_2}\\cdot CX_{q_0,q_1} $$"
   ]
  },
  {
   "cell_type": "code",
   "execution_count": 10,
   "id": "f2180b9d",
   "metadata": {},
   "outputs": [
    {
     "data": {
      "text/latex": [
       "$\\displaystyle \\left[\\begin{array}{cccccccccccccccc}\\frac{\\sqrt{2}}{2} & 0 & 0 & 0 & 0 & 0 & 0 & 0 & 0 & 0 & 0 & 0 & 0 & 0 & 0 & \\frac{\\sqrt{2} i}{2}\\\\0 & \\frac{\\sqrt{2}}{2} & 0 & 0 & 0 & 0 & 0 & 0 & 0 & 0 & 0 & 0 & 0 & 0 & \\frac{\\sqrt{2} i}{2} & 0\\\\0 & 0 & \\frac{\\sqrt{2}}{2} & 0 & 0 & 0 & 0 & 0 & 0 & 0 & 0 & 0 & 0 & \\frac{\\sqrt{2} i}{2} & 0 & 0\\\\0 & 0 & 0 & \\frac{\\sqrt{2}}{2} & 0 & 0 & 0 & 0 & 0 & 0 & 0 & 0 & \\frac{\\sqrt{2} i}{2} & 0 & 0 & 0\\\\0 & 0 & 0 & 0 & \\frac{\\sqrt{2}}{2} & 0 & 0 & 0 & 0 & 0 & 0 & \\frac{\\sqrt{2} i}{2} & 0 & 0 & 0 & 0\\\\0 & 0 & 0 & 0 & 0 & \\frac{\\sqrt{2}}{2} & 0 & 0 & 0 & 0 & \\frac{\\sqrt{2} i}{2} & 0 & 0 & 0 & 0 & 0\\\\0 & 0 & 0 & 0 & 0 & 0 & \\frac{\\sqrt{2}}{2} & 0 & 0 & \\frac{\\sqrt{2} i}{2} & 0 & 0 & 0 & 0 & 0 & 0\\\\0 & 0 & 0 & 0 & 0 & 0 & 0 & \\frac{\\sqrt{2}}{2} & \\frac{\\sqrt{2} i}{2} & 0 & 0 & 0 & 0 & 0 & 0 & 0\\\\0 & 0 & 0 & 0 & 0 & 0 & 0 & - \\frac{\\sqrt{2} i}{2} & - \\frac{\\sqrt{2}}{2} & 0 & 0 & 0 & 0 & 0 & 0 & 0\\\\0 & 0 & 0 & 0 & 0 & 0 & \\frac{\\sqrt{2} i}{2} & 0 & 0 & \\frac{\\sqrt{2}}{2} & 0 & 0 & 0 & 0 & 0 & 0\\\\0 & 0 & 0 & 0 & 0 & \\frac{\\sqrt{2} i}{2} & 0 & 0 & 0 & 0 & \\frac{\\sqrt{2}}{2} & 0 & 0 & 0 & 0 & 0\\\\0 & 0 & 0 & 0 & - \\frac{\\sqrt{2} i}{2} & 0 & 0 & 0 & 0 & 0 & 0 & - \\frac{\\sqrt{2}}{2} & 0 & 0 & 0 & 0\\\\0 & 0 & 0 & \\frac{\\sqrt{2} i}{2} & 0 & 0 & 0 & 0 & 0 & 0 & 0 & 0 & \\frac{\\sqrt{2}}{2} & 0 & 0 & 0\\\\0 & 0 & - \\frac{\\sqrt{2} i}{2} & 0 & 0 & 0 & 0 & 0 & 0 & 0 & 0 & 0 & 0 & - \\frac{\\sqrt{2}}{2} & 0 & 0\\\\0 & - \\frac{\\sqrt{2} i}{2} & 0 & 0 & 0 & 0 & 0 & 0 & 0 & 0 & 0 & 0 & 0 & 0 & - \\frac{\\sqrt{2}}{2} & 0\\\\\\frac{\\sqrt{2} i}{2} & 0 & 0 & 0 & 0 & 0 & 0 & 0 & 0 & 0 & 0 & 0 & 0 & 0 & 0 & \\frac{\\sqrt{2}}{2}\\end{array}\\right]$"
      ],
      "text/plain": [
       "Matrix([\n",
       "[  sqrt(2)/2,            0,            0,           0,            0,           0,           0,            0,           0,           0,           0,           0,           0,           0,           0, sqrt(2)*I/2],\n",
       "[          0,    sqrt(2)/2,            0,           0,            0,           0,           0,            0,           0,           0,           0,           0,           0,           0, sqrt(2)*I/2,           0],\n",
       "[          0,            0,    sqrt(2)/2,           0,            0,           0,           0,            0,           0,           0,           0,           0,           0, sqrt(2)*I/2,           0,           0],\n",
       "[          0,            0,            0,   sqrt(2)/2,            0,           0,           0,            0,           0,           0,           0,           0, sqrt(2)*I/2,           0,           0,           0],\n",
       "[          0,            0,            0,           0,    sqrt(2)/2,           0,           0,            0,           0,           0,           0, sqrt(2)*I/2,           0,           0,           0,           0],\n",
       "[          0,            0,            0,           0,            0,   sqrt(2)/2,           0,            0,           0,           0, sqrt(2)*I/2,           0,           0,           0,           0,           0],\n",
       "[          0,            0,            0,           0,            0,           0,   sqrt(2)/2,            0,           0, sqrt(2)*I/2,           0,           0,           0,           0,           0,           0],\n",
       "[          0,            0,            0,           0,            0,           0,           0,    sqrt(2)/2, sqrt(2)*I/2,           0,           0,           0,           0,           0,           0,           0],\n",
       "[          0,            0,            0,           0,            0,           0,           0, -sqrt(2)*I/2,  -sqrt(2)/2,           0,           0,           0,           0,           0,           0,           0],\n",
       "[          0,            0,            0,           0,            0,           0, sqrt(2)*I/2,            0,           0,   sqrt(2)/2,           0,           0,           0,           0,           0,           0],\n",
       "[          0,            0,            0,           0,            0, sqrt(2)*I/2,           0,            0,           0,           0,   sqrt(2)/2,           0,           0,           0,           0,           0],\n",
       "[          0,            0,            0,           0, -sqrt(2)*I/2,           0,           0,            0,           0,           0,           0,  -sqrt(2)/2,           0,           0,           0,           0],\n",
       "[          0,            0,            0, sqrt(2)*I/2,            0,           0,           0,            0,           0,           0,           0,           0,   sqrt(2)/2,           0,           0,           0],\n",
       "[          0,            0, -sqrt(2)*I/2,           0,            0,           0,           0,            0,           0,           0,           0,           0,           0,  -sqrt(2)/2,           0,           0],\n",
       "[          0, -sqrt(2)*I/2,            0,           0,            0,           0,           0,            0,           0,           0,           0,           0,           0,           0,  -sqrt(2)/2,           0],\n",
       "[sqrt(2)*I/2,            0,            0,           0,            0,           0,           0,            0,           0,           0,           0,           0,           0,           0,           0,   sqrt(2)/2]])"
      ]
     },
     "execution_count": 10,
     "metadata": {},
     "output_type": "execute_result"
    }
   ],
   "source": [
    "J = c3*c2*c1*cz3*cz2*cz1*u*c3*c2*c1\n",
    "sy.simplify(J)"
   ]
  },
  {
   "cell_type": "markdown",
   "id": "e339e5f8",
   "metadata": {},
   "source": [
    "Para provar que o circuito irá funcionar, aplicamos o operador obtido ao estado inicial.\n",
    "$$J\\ket{CCCC} = \\frac{1}{\\sqrt 2} (\\ket{CCCC} + i \\ket{EEEE})$$"
   ]
  },
  {
   "cell_type": "code",
   "execution_count": 11,
   "id": "7369eb05",
   "metadata": {},
   "outputs": [
    {
     "data": {
      "text/latex": [
       "$\\displaystyle \\left[\\begin{matrix}\\frac{\\sqrt{2}}{2}\\\\0\\\\0\\\\0\\\\0\\\\0\\\\0\\\\0\\\\0\\\\0\\\\0\\\\0\\\\0\\\\0\\\\0\\\\\\frac{\\sqrt{2} i}{2}\\end{matrix}\\right]$"
      ],
      "text/plain": [
       "Matrix([\n",
       "[  sqrt(2)/2],\n",
       "[          0],\n",
       "[          0],\n",
       "[          0],\n",
       "[          0],\n",
       "[          0],\n",
       "[          0],\n",
       "[          0],\n",
       "[          0],\n",
       "[          0],\n",
       "[          0],\n",
       "[          0],\n",
       "[          0],\n",
       "[          0],\n",
       "[          0],\n",
       "[sqrt(2)*I/2]])"
      ]
     },
     "execution_count": 11,
     "metadata": {},
     "output_type": "execute_result"
    }
   ],
   "source": [
    "CCCC = TensorProduct(C,C,C,C)\n",
    "sy.simplify(J*CCCC)"
   ]
  },
  {
   "cell_type": "markdown",
   "id": "512627bb",
   "metadata": {},
   "source": [
    "E observamos que, de facto, obtemos o mesmo estado que na célula [Estado desejado](#c1). \n",
    "\n",
    "Logo provámos que o circuito implementa $J$."
   ]
  },
  {
   "cell_type": "markdown",
   "id": "27a63c5a",
   "metadata": {},
   "source": [
    "# $J^†$\n",
    "Para transpor um circuito quântico, basta reverter a ordem em que é aplicada as *gates* quânticas, e ter em conta as rotações que os operadores aplicam:\n",
    "\n",
    "$$\n",
    "\\begin{align}\n",
    "J^\\dagger & = (CX_{q_0,q_3}\\cdot CX_{q_0,q_2}\\cdot CX_{q_0,q_1} \\cdot CZ_{q_0,q_3} \\cdot CZ_{q_0,q_2} \\cdot CZ_{q_0,q_1}\\cdot U \\cdot CX_{q_0,q_3}\\cdot CX_{q_0,q_2}\\cdot CX_{q_0,q_1})^\\dagger \\\\\n",
    "& = CX_{q_0,q_1} \\cdot CX_{q_0,q_2} \\cdot CX_{q_0,q_3} \\cdot U^\\dagger \\cdot CZ_{q_0,q_1} \\cdot CZ_{q_0,q_2} \\cdot CZ_{q_0,q_3}  \\cdot CX_{q_0,q_1} \\cdot CX_{q_0,q_2} \\cdot  CX_{q_0,q_3}\n",
    "\\end{align}\n",
    "$$\n",
    "\n",
    "Neste caso, o operador $U$ precisa de ter os seus ângulos alterados, para implementar a função inversa."
   ]
  },
  {
   "cell_type": "markdown",
   "id": "3e696ade",
   "metadata": {},
   "source": [
    "# $U^†$\n",
    "\n",
    "Uma vez que $\\phi=-\\lambda = \\frac{\\pi}{2}$, \n",
    "$$U3(\\theta,\\frac{\\pi}{2},-\\frac{\\pi}{2}) = \\begin{bmatrix} \\cos{\\frac{\\theta}{2}} & -i\\sin{\\frac{\\theta}{2}}  \\\\ -i\\sin{\\frac{\\theta}{2}} & \\cos{\\frac{\\theta}{2}}   \\end{bmatrix} $$\n",
    "Esta rotação é equivalente a uma rotação sobre o eixo X, que é descrita pela gate $RX(\\theta)$. Isto significa que para obter $U3(\\theta,\\frac{\\pi}{2},-\\frac{\\pi}{2})^\\dagger$ basta substituir $\\theta$ por $-\\theta$.\n",
    "\n",
    "$$U3^\\dagger (\\theta,\\phi,\\lambda) = U3(-\\theta,\\phi,\\lambda)$$\n",
    "\n",
    "$$U^\\dagger = U3^\\dagger(-\\theta,\\phi,\\lambda)  \\otimes I \\otimes I \\otimes I$$\n",
    "\n"
   ]
  },
  {
   "cell_type": "markdown",
   "id": "70950e35",
   "metadata": {},
   "source": [
    "De seguida, contruimos a *gate* $U^\\dagger$ e provamos que é inversa a $U$."
   ]
  },
  {
   "cell_type": "code",
   "execution_count": 12,
   "id": "2defe9ae",
   "metadata": {},
   "outputs": [],
   "source": [
    "theta,phi,lamb = -sy.pi/2 , sy.pi/2 ,-sy.pi/2\n",
    "u3Dagger = sy.Matrix([[sy.cos(theta/2), -sy.exp(1j*lamb)*sy.sin(theta/2)],[sy.exp(1j*phi)*sy.sin(theta/2),sy.exp(1j*(phi+lamb))*sy.cos(theta/2)]])\n",
    "uDagger = TensorProduct(u3Dagger, i , i ,i )"
   ]
  },
  {
   "cell_type": "code",
   "execution_count": 13,
   "id": "98616160",
   "metadata": {},
   "outputs": [
    {
     "data": {
      "text/latex": [
       "$\\displaystyle \\left[\\begin{array}{cccccccccccccccc}1 & 0 & 0 & 0 & 0 & 0 & 0 & 0 & 0 & 0 & 0 & 0 & 0 & 0 & 0 & 0\\\\0 & 1 & 0 & 0 & 0 & 0 & 0 & 0 & 0 & 0 & 0 & 0 & 0 & 0 & 0 & 0\\\\0 & 0 & 1 & 0 & 0 & 0 & 0 & 0 & 0 & 0 & 0 & 0 & 0 & 0 & 0 & 0\\\\0 & 0 & 0 & 1 & 0 & 0 & 0 & 0 & 0 & 0 & 0 & 0 & 0 & 0 & 0 & 0\\\\0 & 0 & 0 & 0 & 1 & 0 & 0 & 0 & 0 & 0 & 0 & 0 & 0 & 0 & 0 & 0\\\\0 & 0 & 0 & 0 & 0 & 1 & 0 & 0 & 0 & 0 & 0 & 0 & 0 & 0 & 0 & 0\\\\0 & 0 & 0 & 0 & 0 & 0 & 1 & 0 & 0 & 0 & 0 & 0 & 0 & 0 & 0 & 0\\\\0 & 0 & 0 & 0 & 0 & 0 & 0 & 1 & 0 & 0 & 0 & 0 & 0 & 0 & 0 & 0\\\\0 & 0 & 0 & 0 & 0 & 0 & 0 & 0 & 1 & 0 & 0 & 0 & 0 & 0 & 0 & 0\\\\0 & 0 & 0 & 0 & 0 & 0 & 0 & 0 & 0 & 1 & 0 & 0 & 0 & 0 & 0 & 0\\\\0 & 0 & 0 & 0 & 0 & 0 & 0 & 0 & 0 & 0 & 1 & 0 & 0 & 0 & 0 & 0\\\\0 & 0 & 0 & 0 & 0 & 0 & 0 & 0 & 0 & 0 & 0 & 1 & 0 & 0 & 0 & 0\\\\0 & 0 & 0 & 0 & 0 & 0 & 0 & 0 & 0 & 0 & 0 & 0 & 1 & 0 & 0 & 0\\\\0 & 0 & 0 & 0 & 0 & 0 & 0 & 0 & 0 & 0 & 0 & 0 & 0 & 1 & 0 & 0\\\\0 & 0 & 0 & 0 & 0 & 0 & 0 & 0 & 0 & 0 & 0 & 0 & 0 & 0 & 1 & 0\\\\0 & 0 & 0 & 0 & 0 & 0 & 0 & 0 & 0 & 0 & 0 & 0 & 0 & 0 & 0 & 1\\end{array}\\right]$"
      ],
      "text/plain": [
       "Matrix([\n",
       "[1, 0, 0, 0, 0, 0, 0, 0, 0, 0, 0, 0, 0, 0, 0, 0],\n",
       "[0, 1, 0, 0, 0, 0, 0, 0, 0, 0, 0, 0, 0, 0, 0, 0],\n",
       "[0, 0, 1, 0, 0, 0, 0, 0, 0, 0, 0, 0, 0, 0, 0, 0],\n",
       "[0, 0, 0, 1, 0, 0, 0, 0, 0, 0, 0, 0, 0, 0, 0, 0],\n",
       "[0, 0, 0, 0, 1, 0, 0, 0, 0, 0, 0, 0, 0, 0, 0, 0],\n",
       "[0, 0, 0, 0, 0, 1, 0, 0, 0, 0, 0, 0, 0, 0, 0, 0],\n",
       "[0, 0, 0, 0, 0, 0, 1, 0, 0, 0, 0, 0, 0, 0, 0, 0],\n",
       "[0, 0, 0, 0, 0, 0, 0, 1, 0, 0, 0, 0, 0, 0, 0, 0],\n",
       "[0, 0, 0, 0, 0, 0, 0, 0, 1, 0, 0, 0, 0, 0, 0, 0],\n",
       "[0, 0, 0, 0, 0, 0, 0, 0, 0, 1, 0, 0, 0, 0, 0, 0],\n",
       "[0, 0, 0, 0, 0, 0, 0, 0, 0, 0, 1, 0, 0, 0, 0, 0],\n",
       "[0, 0, 0, 0, 0, 0, 0, 0, 0, 0, 0, 1, 0, 0, 0, 0],\n",
       "[0, 0, 0, 0, 0, 0, 0, 0, 0, 0, 0, 0, 1, 0, 0, 0],\n",
       "[0, 0, 0, 0, 0, 0, 0, 0, 0, 0, 0, 0, 0, 1, 0, 0],\n",
       "[0, 0, 0, 0, 0, 0, 0, 0, 0, 0, 0, 0, 0, 0, 1, 0],\n",
       "[0, 0, 0, 0, 0, 0, 0, 0, 0, 0, 0, 0, 0, 0, 0, 1]])"
      ]
     },
     "execution_count": 13,
     "metadata": {},
     "output_type": "execute_result"
    }
   ],
   "source": [
    "uDagger*u"
   ]
  },
  {
   "cell_type": "markdown",
   "id": "bc19a235",
   "metadata": {},
   "source": [
    "Por último, provamos que existe simetria no operador $J$,\n",
    "$$J^\\dagger \\cdot J = I$$\n",
    "que é provado na célula seguinte."
   ]
  },
  {
   "cell_type": "code",
   "execution_count": 14,
   "id": "083c66e2",
   "metadata": {},
   "outputs": [
    {
     "data": {
      "text/latex": [
       "$\\displaystyle \\left[\\begin{array}{cccccccccccccccc}1 & 0 & 0 & 0 & 0 & 0 & 0 & 0 & 0 & 0 & 0 & 0 & 0 & 0 & 0 & 0\\\\0 & 1 & 0 & 0 & 0 & 0 & 0 & 0 & 0 & 0 & 0 & 0 & 0 & 0 & 0 & 0\\\\0 & 0 & 1 & 0 & 0 & 0 & 0 & 0 & 0 & 0 & 0 & 0 & 0 & 0 & 0 & 0\\\\0 & 0 & 0 & 1 & 0 & 0 & 0 & 0 & 0 & 0 & 0 & 0 & 0 & 0 & 0 & 0\\\\0 & 0 & 0 & 0 & 1 & 0 & 0 & 0 & 0 & 0 & 0 & 0 & 0 & 0 & 0 & 0\\\\0 & 0 & 0 & 0 & 0 & 1 & 0 & 0 & 0 & 0 & 0 & 0 & 0 & 0 & 0 & 0\\\\0 & 0 & 0 & 0 & 0 & 0 & 1 & 0 & 0 & 0 & 0 & 0 & 0 & 0 & 0 & 0\\\\0 & 0 & 0 & 0 & 0 & 0 & 0 & 1 & 0 & 0 & 0 & 0 & 0 & 0 & 0 & 0\\\\0 & 0 & 0 & 0 & 0 & 0 & 0 & 0 & 1 & 0 & 0 & 0 & 0 & 0 & 0 & 0\\\\0 & 0 & 0 & 0 & 0 & 0 & 0 & 0 & 0 & 1 & 0 & 0 & 0 & 0 & 0 & 0\\\\0 & 0 & 0 & 0 & 0 & 0 & 0 & 0 & 0 & 0 & 1 & 0 & 0 & 0 & 0 & 0\\\\0 & 0 & 0 & 0 & 0 & 0 & 0 & 0 & 0 & 0 & 0 & 1 & 0 & 0 & 0 & 0\\\\0 & 0 & 0 & 0 & 0 & 0 & 0 & 0 & 0 & 0 & 0 & 0 & 1 & 0 & 0 & 0\\\\0 & 0 & 0 & 0 & 0 & 0 & 0 & 0 & 0 & 0 & 0 & 0 & 0 & 1 & 0 & 0\\\\0 & 0 & 0 & 0 & 0 & 0 & 0 & 0 & 0 & 0 & 0 & 0 & 0 & 0 & 1 & 0\\\\0 & 0 & 0 & 0 & 0 & 0 & 0 & 0 & 0 & 0 & 0 & 0 & 0 & 0 & 0 & 1\\end{array}\\right]$"
      ],
      "text/plain": [
       "Matrix([\n",
       "[1, 0, 0, 0, 0, 0, 0, 0, 0, 0, 0, 0, 0, 0, 0, 0],\n",
       "[0, 1, 0, 0, 0, 0, 0, 0, 0, 0, 0, 0, 0, 0, 0, 0],\n",
       "[0, 0, 1, 0, 0, 0, 0, 0, 0, 0, 0, 0, 0, 0, 0, 0],\n",
       "[0, 0, 0, 1, 0, 0, 0, 0, 0, 0, 0, 0, 0, 0, 0, 0],\n",
       "[0, 0, 0, 0, 1, 0, 0, 0, 0, 0, 0, 0, 0, 0, 0, 0],\n",
       "[0, 0, 0, 0, 0, 1, 0, 0, 0, 0, 0, 0, 0, 0, 0, 0],\n",
       "[0, 0, 0, 0, 0, 0, 1, 0, 0, 0, 0, 0, 0, 0, 0, 0],\n",
       "[0, 0, 0, 0, 0, 0, 0, 1, 0, 0, 0, 0, 0, 0, 0, 0],\n",
       "[0, 0, 0, 0, 0, 0, 0, 0, 1, 0, 0, 0, 0, 0, 0, 0],\n",
       "[0, 0, 0, 0, 0, 0, 0, 0, 0, 1, 0, 0, 0, 0, 0, 0],\n",
       "[0, 0, 0, 0, 0, 0, 0, 0, 0, 0, 1, 0, 0, 0, 0, 0],\n",
       "[0, 0, 0, 0, 0, 0, 0, 0, 0, 0, 0, 1, 0, 0, 0, 0],\n",
       "[0, 0, 0, 0, 0, 0, 0, 0, 0, 0, 0, 0, 1, 0, 0, 0],\n",
       "[0, 0, 0, 0, 0, 0, 0, 0, 0, 0, 0, 0, 0, 1, 0, 0],\n",
       "[0, 0, 0, 0, 0, 0, 0, 0, 0, 0, 0, 0, 0, 0, 1, 0],\n",
       "[0, 0, 0, 0, 0, 0, 0, 0, 0, 0, 0, 0, 0, 0, 0, 1]])"
      ]
     },
     "execution_count": 14,
     "metadata": {},
     "output_type": "execute_result"
    }
   ],
   "source": [
    "JDagger = c1*c2*c3*uDagger*cz1*cz2*cz3*c1*c2*c3\n",
    "sy.simplify(JDagger*J)"
   ]
  },
  {
   "cell_type": "markdown",
   "id": "47b1c8a7",
   "metadata": {},
   "source": [
    "Com esta análise, temos todos os cálculos necessários para provar que $J$ é solução, e que o circuito que o implementa cumpre a sua função."
   ]
  }
 ],
 "metadata": {
  "kernelspec": {
   "display_name": "Python 3 (ipykernel)",
   "language": "python",
   "name": "python3"
  },
  "language_info": {
   "codemirror_mode": {
    "name": "ipython",
    "version": 3
   },
   "file_extension": ".py",
   "mimetype": "text/x-python",
   "name": "python",
   "nbconvert_exporter": "python",
   "pygments_lexer": "ipython3",
   "version": "3.9.0"
  }
 },
 "nbformat": 4,
 "nbformat_minor": 5
}
